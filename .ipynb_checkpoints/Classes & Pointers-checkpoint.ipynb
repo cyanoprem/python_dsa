{
 "cells": [
  {
   "cell_type": "code",
   "execution_count": 3,
   "id": "cb6de56a-916a-4ff2-8c76-8186f7110078",
   "metadata": {},
   "outputs": [
    {
     "name": "stdout",
     "output_type": "stream",
     "text": [
      "Cookie one is:  green\n"
     ]
    }
   ],
   "source": [
    "# Classes\n",
    "class Cookie:\n",
    "  def __init__(self, color):\n",
    "    self.color = color\n",
    "\n",
    "  def get_color(self):\n",
    "    return self.color\n",
    "  \n",
    "  def set_color(self, color):\n",
    "    self.color = color\n",
    "\n",
    "\n",
    "cookie_one = Cookie('green')\n",
    "cookie_two = Cookie('blue')\n",
    "\n",
    "print('Cookie one is: ', cookie_one.get_color())"
   ]
  },
  {
   "cell_type": "code",
   "execution_count": 4,
   "id": "446fe513-4c99-41a5-ab27-37086107c162",
   "metadata": {},
   "outputs": [
    {
     "name": "stdout",
     "output_type": "stream",
     "text": [
      "Cookie two is:  blue\n"
     ]
    }
   ],
   "source": [
    "print('Cookie two is: ', cookie_two.get_color())"
   ]
  },
  {
   "cell_type": "code",
   "execution_count": 6,
   "id": "68ba3dfc-c7b4-4c73-bbd6-6f142663377e",
   "metadata": {},
   "outputs": [],
   "source": [
    "cookie_one.set_color(\"black\")"
   ]
  },
  {
   "cell_type": "code",
   "execution_count": 7,
   "id": "64fbe529-09cc-4270-9dcc-b43364abc72a",
   "metadata": {},
   "outputs": [
    {
     "data": {
      "text/plain": [
       "'black'"
      ]
     },
     "execution_count": 7,
     "metadata": {},
     "output_type": "execute_result"
    }
   ],
   "source": [
    "cookie_one.get_color()"
   ]
  },
  {
   "cell_type": "code",
   "execution_count": 6,
   "id": "340e86fb-af98-404b-bfe2-b8da33dd48d9",
   "metadata": {},
   "outputs": [
    {
     "name": "stdout",
     "output_type": "stream",
     "text": [
      "11\n",
      "22\n",
      "4334267816\n",
      "4334268168\n"
     ]
    }
   ],
   "source": [
    "# Pointers\n",
    "num1 = 11\n",
    "num2 = num1\n",
    "\n",
    "# Both point to the same address in memory\n",
    "# print(id(num1))\n",
    "# print(id(num2))\n",
    "\n",
    "num2 = 22\n",
    "print(num1)\n",
    "print(num2)\n",
    "# Now both point to different addresses\n",
    "print(id(num1))\n",
    "print(id(num2))\n",
    "\n",
    "# Integers are immutable, once created in memory the address of that integer will not change, \n",
    "# but you can point the variable to a different address"
   ]
  },
  {
   "cell_type": "code",
   "execution_count": 11,
   "id": "53343fc5-e1ec-464f-a751-26e35218414f",
   "metadata": {},
   "outputs": [
    {
     "name": "stdout",
     "output_type": "stream",
     "text": [
      "{'value': 22}\n",
      "4482420416\n",
      "4482420416\n"
     ]
    }
   ],
   "source": [
    "dict1 = {\n",
    "    \"value\": 11\n",
    "}\n",
    "\n",
    "dict2 = dict1\n",
    "\n",
    "dict2[\"value\"] = 22\n",
    "\n",
    "print(dict1)\n",
    "\n",
    "# Points to the same address - dictionary can change not integers\n",
    "print(id(dict1))\n",
    "print(id(dict2))"
   ]
  },
  {
   "cell_type": "code",
   "execution_count": 13,
   "id": "07f0ea60-06b6-448a-b0a9-440550840d41",
   "metadata": {},
   "outputs": [
    {
     "name": "stdout",
     "output_type": "stream",
     "text": [
      "4467228224\n",
      "4467228224\n",
      "4482420416\n"
     ]
    }
   ],
   "source": [
    "# Pointers for all data structures are like this\n",
    "dict3 = {\n",
    "    \"value\": 33\n",
    "}\n",
    "\n",
    "print(id(dict3))\n",
    "\n",
    "dict2 = dict3\n",
    "\n",
    "print(id(dict2))\n",
    "print(id(dict1))\n",
    "\n",
    "# Now if we point dict1 to dict2 all 3 dicts point at the same address\n",
    "# dict1's inital value will be garbage collected\n"
   ]
  }
 ],
 "metadata": {
  "kernelspec": {
   "display_name": "Python 3 (ipykernel)",
   "language": "python",
   "name": "python3"
  },
  "language_info": {
   "codemirror_mode": {
    "name": "ipython",
    "version": 3
   },
   "file_extension": ".py",
   "mimetype": "text/x-python",
   "name": "python",
   "nbconvert_exporter": "python",
   "pygments_lexer": "ipython3",
   "version": "3.11.7"
  }
 },
 "nbformat": 4,
 "nbformat_minor": 5
}
