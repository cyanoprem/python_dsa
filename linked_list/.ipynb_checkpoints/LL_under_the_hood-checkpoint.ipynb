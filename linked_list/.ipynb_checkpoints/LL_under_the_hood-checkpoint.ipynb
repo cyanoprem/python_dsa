{
 "cells": [
  {
   "cell_type": "code",
   "execution_count": 5,
   "id": "4470d829-51fd-4774-926e-e09878846611",
   "metadata": {},
   "outputs": [],
   "source": [
    "# Linked List as a nested dictionary\n",
    "head = {\n",
    "    \"value\": 11,\n",
    "    \"next\": {\n",
    "        \"value\": 3,\n",
    "        \"next\": {\n",
    "            \"value\": 22,\n",
    "            \"next\": None\n",
    "        }\n",
    "    }\n",
    "}"
   ]
  },
  {
   "cell_type": "code",
   "execution_count": 7,
   "id": "012ecc48-aa48-4acb-a181-e05b43ae0d76",
   "metadata": {},
   "outputs": [
    {
     "name": "stdout",
     "output_type": "stream",
     "text": [
      "22\n"
     ]
    }
   ],
   "source": [
    "print(head[\"next\"][\"next\"][\"value\"])\n",
    "# Actual LL will be printed like print(my_linked_list.head.next.next.value)"
   ]
  },
  {
   "cell_type": "code",
   "execution_count": null,
   "id": "e7b1d4c8-20af-4fd7-8a1d-8058ed60dc47",
   "metadata": {},
   "outputs": [],
   "source": []
  }
 ],
 "metadata": {
  "kernelspec": {
   "display_name": "Python 3 (ipykernel)",
   "language": "python",
   "name": "python3"
  },
  "language_info": {
   "codemirror_mode": {
    "name": "ipython",
    "version": 3
   },
   "file_extension": ".py",
   "mimetype": "text/x-python",
   "name": "python",
   "nbconvert_exporter": "python",
   "pygments_lexer": "ipython3",
   "version": "3.11.7"
  }
 },
 "nbformat": 4,
 "nbformat_minor": 5
}
